{
  "nbformat": 4,
  "nbformat_minor": 0,
  "metadata": {
    "colab": {
      "provenance": []
    },
    "kernelspec": {
      "name": "python3",
      "display_name": "Python 3"
    },
    "language_info": {
      "name": "python"
    }
  },
  "cells": [
    {
      "cell_type": "markdown",
      "source": [
        "# <span style=\"color:#4CAF50\"> TP Nº 1: Principios del Paradigma Orientado a Objetos  </span>\n",
        "\n",
        "---\n",
        "\n",
        "\n",
        "**OBJETIVO**\n",
        "\n",
        "Aplicar los principios fundamentales de la Programación Orientada a\n",
        "Objetos (POO) en Python, incluyendo polimorfismo, abstracción, herencia\n",
        "y encapsulamiento. Los estudiantes desarrollarán y manipularán colecciones\n",
        "de objetos, realizarán búsquedas y filtrados en estas colecciones, y resolverán problemas prácticos mediante la implementación de clases\n",
        "y métodos.\n",
        "\n",
        "---\n",
        "---\n",
        "\n",
        "\n",
        "**Problemática**\n",
        "\n",
        "Se te ha contratado para desarrollar un sistema de gestión de personas para una institución educativa. El sistema debe permitir manejar la información de estudiantes, docentes y personal administrativo, y proporcionar herramientas para realizar diversas consultas y manipulaciones sobre los datos de estas personas.\n",
        "\n",
        "---\n"
      ],
      "metadata": {
        "id": "vdsp0JtB7Xwy"
      }
    },
    {
      "cell_type": "code",
      "source": [
        "################################################################################\n",
        "#   1. Introducción y Preparación de Datos                                     #\n",
        "#      Carga de Datos:                                                         #\n",
        "#      **Crea una clase Persona que será abstracta, con los atributos nombre,  #\n",
        "#        apellido, edad, y ocupacion.                                          #\n",
        "#      **Implementa el método abstracto mostrar_informacion.                   #\n",
        "#      **Crea varias subclases de Persona, como Estudiante, Docente, y         #\n",
        "#        Administrativo (si quieren otras más), cada una con atributos         #\n",
        "#        adicionales específicos y su propia implementación del método         #\n",
        "#        mostrar_informacion.                                                  #\n",
        "#      **Implementa encapsulamiento para algunos atributos y utiliza @property #\n",
        "#        y @setter para manejar su acceso.                                     #\n",
        "#      **Crea una colección de personas en una lista.                          #\n",
        "#                                                                              #\n",
        "################################################################################"
      ],
      "metadata": {
        "id": "j5i6EqCz4sEP"
      },
      "execution_count": null,
      "outputs": []
    },
    {
      "cell_type": "code",
      "source": [
        "from abc import ABC, abstractmethod\n",
        "\n",
        "#Clase abstracta con sus atributos(nombre,apellido,edad,ocupacion)\n",
        "class Persona(ABC):\n",
        "    def __init__(self, nombre, apellido, edad, ocupacion):\n",
        "        self.nombre = nombre\n",
        "        self.apellido = apellido\n",
        "        self.edad = edad\n",
        "        self.ocupacion = ocupacion\n",
        "        self.id = self.generar_id()   #identificador unico de cada persona\n",
        "\n",
        "# Metodo abstracto (mostrar_informacion | generar_id)\n",
        "    @abstractmethod\n",
        "    def mostrar_informacion(self):\n",
        "        \"\"\"Método abstracto que debe ser implementado en las subclases\"\"\"\n",
        "        return f\"Datos Personales = {self.nombre} {self.apellido}, Edad: {self.edad} años, Ocupacion: {self.ocupacion}\"\n",
        "\n",
        "# Metodo que genera un ID único para cada persona (dos primeros caracteres del Apellido + los últimos 2 caracteres del Nombre + la ocupación).\n",
        "    def generar_id(self):\n",
        "        \"\"\"Genera un ID único para cada persona\"\"\"\n",
        "        return self.apellido[:2].lower() + self.nombre[-2:].lower() + self.ocupacion.lower()\n"
      ],
      "metadata": {
        "id": "IH6gjcNiedJQ"
      },
      "execution_count": 1,
      "outputs": []
    },
    {
      "cell_type": "code",
      "source": [
        "#Se mostraran los metodos y atributos utilizados en la Clase Persona\n",
        "help(Persona)"
      ],
      "metadata": {
        "colab": {
          "base_uri": "https://localhost:8080/"
        },
        "id": "ku1_VJASTU7E",
        "outputId": "e31b35ae-5b01-44b8-b079-258040a4a6d9"
      },
      "execution_count": 2,
      "outputs": [
        {
          "output_type": "stream",
          "name": "stdout",
          "text": [
            "Help on class Persona in module __main__:\n",
            "\n",
            "class Persona(abc.ABC)\n",
            " |  Persona(nombre, apellido, edad, ocupacion)\n",
            " |  \n",
            " |  Method resolution order:\n",
            " |      Persona\n",
            " |      abc.ABC\n",
            " |      builtins.object\n",
            " |  \n",
            " |  Methods defined here:\n",
            " |  \n",
            " |  __init__(self, nombre, apellido, edad, ocupacion)\n",
            " |      Initialize self.  See help(type(self)) for accurate signature.\n",
            " |  \n",
            " |  generar_id(self)\n",
            " |      Genera un ID único para cada persona\n",
            " |  \n",
            " |  mostrar_informacion(self)\n",
            " |      Método abstracto que debe ser implementado en las subclases\n",
            " |  \n",
            " |  ----------------------------------------------------------------------\n",
            " |  Data descriptors defined here:\n",
            " |  \n",
            " |  __dict__\n",
            " |      dictionary for instance variables\n",
            " |  \n",
            " |  __weakref__\n",
            " |      list of weak references to the object\n",
            " |  \n",
            " |  ----------------------------------------------------------------------\n",
            " |  Data and other attributes defined here:\n",
            " |  \n",
            " |  __abstractmethods__ = frozenset({'mostrar_informacion'})\n",
            "\n"
          ]
        }
      ]
    },
    {
      "cell_type": "code",
      "source": [
        "#Subclases de la Clase PERSONA: (Estudiante, Docente, y Administrativo) con atributos\n",
        "#adicionales específicos y su propia implementación del método mostrar_informacion.\n",
        "\n",
        "class Estudiante(Persona):\n",
        "    def __init__(self, nombre, apellido, edad, ocupacion, dni):\n",
        "        super().__init__(nombre, apellido, edad, ocupacion)\n",
        "        self._dni = dni    #Modificador de Acceso (PROTEGIDO): convención, accesible en subclases y mismo módulo\n",
        "\n",
        "    def mostrar_informacion(self):\n",
        "        return f\"Datos Personales = {self.nombre} {self.apellido}, Edad: {self.edad} años, Ocupacion: {self.ocupacion}, Identificador Unico(ID): {self.id}, Nro DNI:{self._dni}\"\n",
        "\n",
        "    def mostrar_dni(self):\n",
        "        \"\"\"Este es un método protegido.\"\"\"\n",
        "        return f\"El Nro DNI del Estudiante seleccionado es: {self._dni}\"\n",
        "\n",
        "# Metodo para ordenar ordenar la colección de personas (Estudiante) por\n",
        "    # criterio (edad)\n",
        "    def ordenar_por_edad(lista_personas):\n",
        "         return sorted(lista_personas, key=lambda p: p.edad)\n",
        "\n",
        "#Metodos de Acceso: @property y @setter para manejar su acceso.\n",
        "    @property\n",
        "    def dni(self):\n",
        "          return self._dni\n",
        "\n",
        "    @dni.setter\n",
        "    def dni(self, dni):\n",
        "        if isinstance(dni, int):   # Verifica si es un número\n",
        "            self._dni = dni\n",
        "        else:\n",
        "            raise ValueError(\"El nro DNI debe ser un valor numérico.\")\n",
        "\n"
      ],
      "metadata": {
        "id": "UxUOtCLcVejK"
      },
      "execution_count": 4,
      "outputs": []
    },
    {
      "cell_type": "code",
      "source": [
        "#Se crea un objeto llamado yanira usando la clase Estudiante y mostramos los atributos propios de la clase\n",
        "yanira = Estudiante(\"Yanira\",\"Monroy\",12,\"Estudiante\",96083822)\n",
        "yanira.mostrar_informacion()"
      ],
      "metadata": {
        "colab": {
          "base_uri": "https://localhost:8080/",
          "height": 36
        },
        "id": "bT2Ifq9hejT5",
        "outputId": "b3668cee-205f-47a2-fd13-23d8a269b828"
      },
      "execution_count": 5,
      "outputs": [
        {
          "output_type": "execute_result",
          "data": {
            "text/plain": [
              "'Datos Personales = Yanira Monroy, Edad: 12 años, Ocupacion: Estudiante, Identificador Unico(ID): moraestudiante, Nro DNI:96083822'"
            ],
            "application/vnd.google.colaboratory.intrinsic+json": {
              "type": "string"
            }
          },
          "metadata": {},
          "execution_count": 5
        }
      ]
    },
    {
      "cell_type": "code",
      "source": [
        "# Uso de la clase\n",
        "yanira = Estudiante(\"Yanira\",\"Monroy\", 12, \"Estudiante\", 96083822)\n",
        "print(yanira.dni)  #Acceso con @property\n",
        "\n",
        "yanira.dni = 17210403  #Modificación con @setter\n",
        "print(yanira.dni)\n"
      ],
      "metadata": {
        "colab": {
          "base_uri": "https://localhost:8080/"
        },
        "id": "FftlKfY98vL-",
        "outputId": "248af26d-ddcd-4199-dbfc-202445e12f44"
      },
      "execution_count": 6,
      "outputs": [
        {
          "output_type": "stream",
          "name": "stdout",
          "text": [
            "96083822\n",
            "17210403\n"
          ]
        }
      ]
    },
    {
      "cell_type": "code",
      "source": [
        "##Modificamos el valor que queremos modificar, pero ingresamos un String en vez\n",
        "#de un valor numerico, esto arrojara un ERROR esta vez ya que El nro DNI debe ser un\n",
        "#valor Numerico.\n",
        "try:\n",
        "    yanira.dni = \"monroy\"  #Error: Valor no numérico\n",
        "except ValueError as e:\n",
        "    print(f\"Error: {e}\")\n"
      ],
      "metadata": {
        "colab": {
          "base_uri": "https://localhost:8080/"
        },
        "id": "B-KavmgeASZ5",
        "outputId": "bd67ee15-fa86-4abd-e595-9e9ee91e8b0d"
      },
      "execution_count": 7,
      "outputs": [
        {
          "output_type": "stream",
          "name": "stdout",
          "text": [
            "Error: El nro DNI debe ser un valor numérico.\n"
          ]
        }
      ]
    },
    {
      "cell_type": "code",
      "source": [
        "#Crea una colección de personas en una lista\n",
        "personas = [\n",
        "             Estudiante(\"Gustavo\",\"Delgado\",12,\"Estudiante\",96083906),\n",
        "             Estudiante(\"Jose\",\"Delgado\",13, \"Estudiante\", 96012639),\n",
        "             Estudiante(\"Yanira\",\"Monroy\",12,\"Estudiante\",96083822),\n",
        "             Estudiante(\"Oriana\",\"Martinez\",14,\"Estudiante\", 96082901),\n",
        "             Estudiante(\"Alejandro\",\"Gonzalez\", 14, \"Estudiante\", 95012434)\n",
        "              ]\n",
        "\n",
        "#Mostrar informacion\n",
        "for persona in personas :\n",
        "    print(persona.mostrar_informacion())\n"
      ],
      "metadata": {
        "colab": {
          "base_uri": "https://localhost:8080/"
        },
        "id": "lDtElRUeGHB8",
        "outputId": "593be4cf-0fd9-4f69-b577-5e602565c1dd"
      },
      "execution_count": 8,
      "outputs": [
        {
          "output_type": "stream",
          "name": "stdout",
          "text": [
            "Datos Personales = Gustavo Delgado, Edad: 12 años, Ocupacion: Estudiante, Identificador Unico(ID): devoestudiante, Nro DNI:96083906\n",
            "Datos Personales = Jose Delgado, Edad: 13 años, Ocupacion: Estudiante, Identificador Unico(ID): deseestudiante, Nro DNI:96012639\n",
            "Datos Personales = Yanira Monroy, Edad: 12 años, Ocupacion: Estudiante, Identificador Unico(ID): moraestudiante, Nro DNI:96083822\n",
            "Datos Personales = Oriana Martinez, Edad: 14 años, Ocupacion: Estudiante, Identificador Unico(ID): manaestudiante, Nro DNI:96082901\n",
            "Datos Personales = Alejandro Gonzalez, Edad: 14 años, Ocupacion: Estudiante, Identificador Unico(ID): goroestudiante, Nro DNI:95012434\n"
          ]
        }
      ]
    },
    {
      "cell_type": "code",
      "source": [
        "#Se mostrara el Nro DNI del Estudiante [2]\n",
        "Estudiante.mostrar_dni(personas[2])"
      ],
      "metadata": {
        "colab": {
          "base_uri": "https://localhost:8080/",
          "height": 36
        },
        "id": "7M9WZKUlFTwS",
        "outputId": "45479f46-6036-4de5-869f-0606cb0d24a2"
      },
      "execution_count": 9,
      "outputs": [
        {
          "output_type": "execute_result",
          "data": {
            "text/plain": [
              "'El Nro DNI del Estudiante seleccionado es: 96083822'"
            ],
            "application/vnd.google.colaboratory.intrinsic+json": {
              "type": "string"
            }
          },
          "metadata": {},
          "execution_count": 9
        }
      ]
    },
    {
      "cell_type": "code",
      "source": [
        "#Se mostrara la informacion del Estudiante [2] pero con los atributos de la Clase Persona\n",
        "Persona.mostrar_informacion(personas[2])"
      ],
      "metadata": {
        "colab": {
          "base_uri": "https://localhost:8080/",
          "height": 36
        },
        "id": "hGHvJtxnPBBJ",
        "outputId": "cd6c98a1-b483-4c89-99f9-40a92c2e2205"
      },
      "execution_count": 10,
      "outputs": [
        {
          "output_type": "execute_result",
          "data": {
            "text/plain": [
              "'Datos Personales = Yanira Monroy, Edad: 12 años, Ocupacion: Estudiante'"
            ],
            "application/vnd.google.colaboratory.intrinsic+json": {
              "type": "string"
            }
          },
          "metadata": {},
          "execution_count": 10
        }
      ]
    },
    {
      "cell_type": "code",
      "source": [
        "#Se mostrara la informacion del Estudiante [2] con los atributos propios de esta Clase\n",
        "Estudiante.mostrar_informacion(personas[2])"
      ],
      "metadata": {
        "colab": {
          "base_uri": "https://localhost:8080/",
          "height": 36
        },
        "id": "USXTfk-7l-p1",
        "outputId": "1c355692-c31a-4841-8a76-4ab4da44429b"
      },
      "execution_count": 11,
      "outputs": [
        {
          "output_type": "execute_result",
          "data": {
            "text/plain": [
              "'Datos Personales = Yanira Monroy, Edad: 12 años, Ocupacion: Estudiante, Identificador Unico(ID): moraestudiante, Nro DNI:96083822'"
            ],
            "application/vnd.google.colaboratory.intrinsic+json": {
              "type": "string"
            }
          },
          "metadata": {},
          "execution_count": 11
        }
      ]
    },
    {
      "cell_type": "code",
      "source": [
        "#Se mostraran los metodos y atributos utilizados en la Clase Estudiante\n",
        "help(Estudiante)"
      ],
      "metadata": {
        "colab": {
          "base_uri": "https://localhost:8080/"
        },
        "id": "JVZ8XT68--Rb",
        "outputId": "c4656780-c5da-4755-fafb-3446984295ac"
      },
      "execution_count": 12,
      "outputs": [
        {
          "output_type": "stream",
          "name": "stdout",
          "text": [
            "Help on class Estudiante in module __main__:\n",
            "\n",
            "class Estudiante(Persona)\n",
            " |  Estudiante(nombre, apellido, edad, ocupacion, dni)\n",
            " |  \n",
            " |  Method resolution order:\n",
            " |      Estudiante\n",
            " |      Persona\n",
            " |      abc.ABC\n",
            " |      builtins.object\n",
            " |  \n",
            " |  Methods defined here:\n",
            " |  \n",
            " |  __init__(self, nombre, apellido, edad, ocupacion, dni)\n",
            " |      Initialize self.  See help(type(self)) for accurate signature.\n",
            " |  \n",
            " |  mostrar_dni(self)\n",
            " |      Este es un método protegido.\n",
            " |  \n",
            " |  mostrar_informacion(self)\n",
            " |      Método abstracto que debe ser implementado en las subclases\n",
            " |  \n",
            " |  ordenar_por_edad(lista_personas)\n",
            " |      # criterio (edad)\n",
            " |  \n",
            " |  ----------------------------------------------------------------------\n",
            " |  Data descriptors defined here:\n",
            " |  \n",
            " |  dni\n",
            " |  \n",
            " |  ----------------------------------------------------------------------\n",
            " |  Data and other attributes defined here:\n",
            " |  \n",
            " |  __abstractmethods__ = frozenset()\n",
            " |  \n",
            " |  ----------------------------------------------------------------------\n",
            " |  Methods inherited from Persona:\n",
            " |  \n",
            " |  generar_id(self)\n",
            " |      Genera un ID único para cada persona\n",
            " |  \n",
            " |  ----------------------------------------------------------------------\n",
            " |  Data descriptors inherited from Persona:\n",
            " |  \n",
            " |  __dict__\n",
            " |      dictionary for instance variables\n",
            " |  \n",
            " |  __weakref__\n",
            " |      list of weak references to the object\n",
            "\n"
          ]
        }
      ]
    },
    {
      "cell_type": "code",
      "source": [
        "class Docente(Persona):\n",
        "    def __init__(self, nombre, apellido, edad, ocupacion, materia):\n",
        "        super().__init__(nombre, apellido, edad, ocupacion)\n",
        "        self.materia = materia   #Modificador de Acceso (PUBLICO): accesible desde cualquier lugar del programa.\n",
        "\n",
        "    def mostrar_informacion(self):\n",
        "        return f\"Datos Personales = {self.nombre} {self.apellido}, Edad: {self.edad} años, Ocupacion: {self.ocupacion}, Identificador Unico(ID): {self.id}, Materia: {self.materia}\"\n",
        "\n",
        "    def mostrar_materia(self):\n",
        "        \"\"\"Este es un método público.\"\"\"\n",
        "        return f\"El Docente seleccionado dicta la materia: {self.materia}\"\n",
        "\n",
        "# Metodo para ordenar ordenar la colección de personas (Docente) por\n",
        "    # criterio (nombre)\n",
        "    def ordenar_por_nombre(lista_personas):\n",
        "         return sorted(lista_personas, key=lambda p: p.nombre)\n",
        "\n",
        "#Metodos de Acceso: @property y @setter para manejar su acceso.\n",
        "    @property\n",
        "    def materia(self):\n",
        "        return self._materia\n",
        "\n",
        "    @materia.setter\n",
        "    def materia(self, nueva_materia):\n",
        "        if isinstance(nueva_materia, str) and nueva_materia.strip():\n",
        "            self._materia = nueva_materia\n",
        "        else:\n",
        "            raise ValueError(\"El nombre de la materia debe ser una cadena de texto válida.\")\n"
      ],
      "metadata": {
        "id": "n2AU9x5HE-Qv"
      },
      "execution_count": 13,
      "outputs": []
    },
    {
      "cell_type": "code",
      "source": [
        "#Se crea un objeto llamado luz usando la clase Docente y mostramos los atributos propios de la clase\n",
        "luz = Docente(\"Luz\",\"Monroy\", 36, \"Docente\", \"Historia\")\n",
        "luz.mostrar_informacion()"
      ],
      "metadata": {
        "colab": {
          "base_uri": "https://localhost:8080/",
          "height": 36
        },
        "id": "TI0TizENhBEJ",
        "outputId": "bb17d797-aa34-470a-ed6a-68a8342d4f74"
      },
      "execution_count": 14,
      "outputs": [
        {
          "output_type": "execute_result",
          "data": {
            "text/plain": [
              "'Datos Personales = Luz Monroy, Edad: 36 años, Ocupacion: Docente, Identificador Unico(ID): mouzdocente, Materia: Historia'"
            ],
            "application/vnd.google.colaboratory.intrinsic+json": {
              "type": "string"
            }
          },
          "metadata": {},
          "execution_count": 14
        }
      ]
    },
    {
      "cell_type": "code",
      "source": [
        "# Uso de la clase\n",
        "luz = Docente(\"Luz\",\"Monroy\", 36, \"Docente\", \"Historia\")\n",
        "print(luz.materia)  #Acceso con @property\n",
        "\n",
        "luz.materia = \"Artes Plasticas\"  #Modificación con @setter\n",
        "print(luz.materia)\n"
      ],
      "metadata": {
        "colab": {
          "base_uri": "https://localhost:8080/"
        },
        "id": "1cOJANQFEbdD",
        "outputId": "1af2bd18-0e42-4685-ff91-90f009331f8c"
      },
      "execution_count": 15,
      "outputs": [
        {
          "output_type": "stream",
          "name": "stdout",
          "text": [
            "Historia\n",
            "Artes Plasticas\n"
          ]
        }
      ]
    },
    {
      "cell_type": "code",
      "source": [
        "#Modificamos el valor que queremos modificar, pero ingresamos un Valor Numerico en vez de un String\n",
        "#Arrojara un ERROR esta vez ya que debemos ingresar una Cadena de Texto\n",
        "try:\n",
        "    luz.materia = 123456  #Error: Valor no numérico\n",
        "except ValueError as e:\n",
        "    print(f\"Error: {e}\")"
      ],
      "metadata": {
        "colab": {
          "base_uri": "https://localhost:8080/"
        },
        "id": "6IYMtAIOmAxp",
        "outputId": "4bd20a43-16e2-48b8-9006-9afb36696dc6"
      },
      "execution_count": 16,
      "outputs": [
        {
          "output_type": "stream",
          "name": "stdout",
          "text": [
            "Error: El nombre de la materia debe ser una cadena de texto válida.\n"
          ]
        }
      ]
    },
    {
      "cell_type": "code",
      "source": [
        "#Crea una colección de personas en una lista.\n",
        "personas = [ Docente(\"Luz\",\"Monroy\",36,\"Docente\", \"Historia\"),\n",
        "             Docente(\"Carlos\",\"Suarez\",44, \"Docente\", \"Artes Plasticas\"),\n",
        "             Docente(\"Maria\",\"Ramos\",27,\"Docente\",\"Ingles\"),\n",
        "             Docente(\"Susana\",\"Velasquez\",41,\"Docente\", \"Matematicas\"),\n",
        "             Docente(\"Benicio\",\"Cirio\", 30, \"Docente\", \"Practicas del Lenguaje\")\n",
        "            ]\n",
        "\n",
        "#Mostrar informacion\n",
        "for persona in personas :\n",
        "    print(persona.mostrar_informacion())\n"
      ],
      "metadata": {
        "colab": {
          "base_uri": "https://localhost:8080/"
        },
        "id": "dcYjxclmL_VG",
        "outputId": "9e492121-4c7c-4e3a-c0fd-62c9f8ac1c45"
      },
      "execution_count": 17,
      "outputs": [
        {
          "output_type": "stream",
          "name": "stdout",
          "text": [
            "Datos Personales = Luz Monroy, Edad: 36 años, Ocupacion: Docente, Identificador Unico(ID): mouzdocente, Materia: Historia\n",
            "Datos Personales = Carlos Suarez, Edad: 44 años, Ocupacion: Docente, Identificador Unico(ID): suosdocente, Materia: Artes Plasticas\n",
            "Datos Personales = Maria Ramos, Edad: 27 años, Ocupacion: Docente, Identificador Unico(ID): raiadocente, Materia: Ingles\n",
            "Datos Personales = Susana Velasquez, Edad: 41 años, Ocupacion: Docente, Identificador Unico(ID): venadocente, Materia: Matematicas\n",
            "Datos Personales = Benicio Cirio, Edad: 30 años, Ocupacion: Docente, Identificador Unico(ID): ciiodocente, Materia: Practicas del Lenguaje\n"
          ]
        }
      ]
    },
    {
      "cell_type": "code",
      "source": [
        "#Se mostrara la materia que dicta el Docente [3]\n",
        "Docente.mostrar_materia(personas[3])"
      ],
      "metadata": {
        "colab": {
          "base_uri": "https://localhost:8080/",
          "height": 36
        },
        "id": "hqOjGrPKmszd",
        "outputId": "032a1d05-a6f6-47c7-f9bd-4535e79faf66"
      },
      "execution_count": 18,
      "outputs": [
        {
          "output_type": "execute_result",
          "data": {
            "text/plain": [
              "'El Docente seleccionado dicta la materia: Matematicas'"
            ],
            "application/vnd.google.colaboratory.intrinsic+json": {
              "type": "string"
            }
          },
          "metadata": {},
          "execution_count": 18
        }
      ]
    },
    {
      "cell_type": "code",
      "source": [
        "#Se mostrara la informacion del Docente [3] pero con los atributos de la Clase Persona\n",
        "Persona.mostrar_informacion(personas[3])"
      ],
      "metadata": {
        "colab": {
          "base_uri": "https://localhost:8080/",
          "height": 36
        },
        "id": "u6KIdKNZod72",
        "outputId": "ca5f43a2-1d50-45d3-acc7-4a754f554086"
      },
      "execution_count": 19,
      "outputs": [
        {
          "output_type": "execute_result",
          "data": {
            "text/plain": [
              "'Datos Personales = Susana Velasquez, Edad: 41 años, Ocupacion: Docente'"
            ],
            "application/vnd.google.colaboratory.intrinsic+json": {
              "type": "string"
            }
          },
          "metadata": {},
          "execution_count": 19
        }
      ]
    },
    {
      "cell_type": "code",
      "source": [
        "#Se mostrara la informacion del Docente [3] con los atributos propios de esta Clase\n",
        "Docente.mostrar_informacion(personas[3])"
      ],
      "metadata": {
        "colab": {
          "base_uri": "https://localhost:8080/",
          "height": 36
        },
        "id": "4vKsvIGfoKNF",
        "outputId": "518da7ce-e89f-4f07-ad22-0914ec36530d"
      },
      "execution_count": 20,
      "outputs": [
        {
          "output_type": "execute_result",
          "data": {
            "text/plain": [
              "'Datos Personales = Susana Velasquez, Edad: 41 años, Ocupacion: Docente, Identificador Unico(ID): venadocente, Materia: Matematicas'"
            ],
            "application/vnd.google.colaboratory.intrinsic+json": {
              "type": "string"
            }
          },
          "metadata": {},
          "execution_count": 20
        }
      ]
    },
    {
      "cell_type": "code",
      "source": [
        "#Se mostraran los metodos y atributos utilizados en la Clase Docente\n",
        "help(Docente)"
      ],
      "metadata": {
        "colab": {
          "base_uri": "https://localhost:8080/"
        },
        "id": "k-wR5EtWoTat",
        "outputId": "61b50bd9-d2e4-4a00-9b1d-d4659e1baf42"
      },
      "execution_count": 21,
      "outputs": [
        {
          "output_type": "stream",
          "name": "stdout",
          "text": [
            "Help on class Docente in module __main__:\n",
            "\n",
            "class Docente(Persona)\n",
            " |  Docente(nombre, apellido, edad, ocupacion, materia)\n",
            " |  \n",
            " |  Method resolution order:\n",
            " |      Docente\n",
            " |      Persona\n",
            " |      abc.ABC\n",
            " |      builtins.object\n",
            " |  \n",
            " |  Methods defined here:\n",
            " |  \n",
            " |  __init__(self, nombre, apellido, edad, ocupacion, materia)\n",
            " |      Initialize self.  See help(type(self)) for accurate signature.\n",
            " |  \n",
            " |  mostrar_informacion(self)\n",
            " |      Método abstracto que debe ser implementado en las subclases\n",
            " |  \n",
            " |  mostrar_materia(self)\n",
            " |      Este es un método público.\n",
            " |  \n",
            " |  ordenar_por_nombre(lista_personas)\n",
            " |      # criterio (nombre)\n",
            " |  \n",
            " |  ----------------------------------------------------------------------\n",
            " |  Data descriptors defined here:\n",
            " |  \n",
            " |  materia\n",
            " |  \n",
            " |  ----------------------------------------------------------------------\n",
            " |  Data and other attributes defined here:\n",
            " |  \n",
            " |  __abstractmethods__ = frozenset()\n",
            " |  \n",
            " |  ----------------------------------------------------------------------\n",
            " |  Methods inherited from Persona:\n",
            " |  \n",
            " |  generar_id(self)\n",
            " |      Genera un ID único para cada persona\n",
            " |  \n",
            " |  ----------------------------------------------------------------------\n",
            " |  Data descriptors inherited from Persona:\n",
            " |  \n",
            " |  __dict__\n",
            " |      dictionary for instance variables\n",
            " |  \n",
            " |  __weakref__\n",
            " |      list of weak references to the object\n",
            "\n"
          ]
        }
      ]
    },
    {
      "cell_type": "code",
      "source": [
        "class Administrativo(Persona):\n",
        "    def __init__(self, nombre, apellido, edad, ocupacion, salario):\n",
        "        super().__init__(nombre, apellido, edad, ocupacion)\n",
        "        self.__salario = salario  #Modificador de Acceso (PRIVADO):name mangling a _Persona__salario, accesible solo dentro de esta clase\n",
        "\n",
        "    def mostrar_informacion(self):\n",
        "        return f\"Datos Personales = {self.nombre} {self.apellido}, Edad {self.edad} años, Ocupacion: {self.ocupacion}, Identificador Unico(ID): {self.id}, Salario: {self.__salario}\"\n",
        "\n",
        "    def mostrar_salario(self): #Polimorfismo...\n",
        "        \"\"\"Este es un método privado.\"\"\"\n",
        "        return f\"El salario del Personal Administrativo seleccionado es: {self.__salario}\"\n",
        "\n",
        "# Metodo para ordenar ordenar la colección de personas (Administrativo) por\n",
        "    # criterio (Apellido)\n",
        "    def ordenar_por_apellido(lista_personas):\n",
        "         return sorted(lista_personas, key=lambda p: p.apellido)\n",
        "\n",
        " #Metodos de Acceso: @property y @setter para manejar su acceso.\n",
        "    @property\n",
        "    def salario(self):\n",
        "        return self.__salario\n",
        "\n",
        "    @salario.setter\n",
        "    def salario(self, nuevo_salario):\n",
        "         if isinstance(nuevo_salario, (float, int)) and nuevo_salario > 0:\n",
        "            self.__salario = nuevo_salario\n",
        "         else:\n",
        "            raise ValueError(\"El salario debe ser un valor numérico y positivo.\")\n",
        "\n"
      ],
      "metadata": {
        "id": "IxrCYOFSFODV"
      },
      "execution_count": 22,
      "outputs": []
    },
    {
      "cell_type": "code",
      "source": [
        "#Se crea un objeto llamado juan usando la clase Administrativo y mostramos los atributos propios de la clase\n",
        "juan = Administrativo(\"Juan\",\"Gomez\", 30, \"Pasante\", 356500)\n",
        "juan.mostrar_informacion()"
      ],
      "metadata": {
        "colab": {
          "base_uri": "https://localhost:8080/",
          "height": 36
        },
        "id": "HBuDg8mdB8jG",
        "outputId": "48a368b2-f0c4-44c0-a301-af6fda9175d8"
      },
      "execution_count": 23,
      "outputs": [
        {
          "output_type": "execute_result",
          "data": {
            "text/plain": [
              "'Datos Personales = Juan Gomez, Edad 30 años, Ocupacion: Pasante, Identificador Unico(ID): goanpasante, Salario: 356500'"
            ],
            "application/vnd.google.colaboratory.intrinsic+json": {
              "type": "string"
            }
          },
          "metadata": {},
          "execution_count": 23
        }
      ]
    },
    {
      "cell_type": "code",
      "source": [
        "#Uso de la clase\n",
        "juan = Administrativo(\"Juan\",\"Gomez\", 30, \"Pasante\", 356500)\n",
        "print(juan.salario)  #Acceso con @property\n",
        "\n",
        "juan.nuevo_salario = 1900850  #Modificación con @setter\n",
        "print(juan.nuevo_salario)"
      ],
      "metadata": {
        "colab": {
          "base_uri": "https://localhost:8080/"
        },
        "id": "yfrzvdwUG1UM",
        "outputId": "d8a5772e-61a9-467a-dc00-ee72236dd5e1"
      },
      "execution_count": 24,
      "outputs": [
        {
          "output_type": "stream",
          "name": "stdout",
          "text": [
            "356500\n",
            "1900850\n"
          ]
        }
      ]
    },
    {
      "cell_type": "code",
      "source": [
        "#Modificamos el valor del salario, pero ingresamos un Valor Numerico negativo\n",
        "#Arrojara un ERROR esta vez ya que debemos ingresar un valor numerico y positivo\n",
        "try:\n",
        "    juan.salario = -1500  #Error: Valor negativo\n",
        "except ValueError as e:\n",
        "    print(f\"Error: {e}\")\n"
      ],
      "metadata": {
        "id": "yEgPIPaOJSqE",
        "colab": {
          "base_uri": "https://localhost:8080/"
        },
        "outputId": "9b68620a-3b0b-4d45-e389-db78e7a5f100"
      },
      "execution_count": 25,
      "outputs": [
        {
          "output_type": "stream",
          "name": "stdout",
          "text": [
            "Error: El salario debe ser un valor numérico y positivo.\n"
          ]
        }
      ]
    },
    {
      "cell_type": "code",
      "source": [
        "#Accedemos al atributo edad del Objeto juan que es una instancia de la Clase Administrativo\n",
        "juan.edad"
      ],
      "metadata": {
        "colab": {
          "base_uri": "https://localhost:8080/"
        },
        "id": "3wYr2u42FFBh",
        "outputId": "33da1a31-1e1a-4830-8030-9a34ca27f83a"
      },
      "execution_count": 26,
      "outputs": [
        {
          "output_type": "execute_result",
          "data": {
            "text/plain": [
              "30"
            ]
          },
          "metadata": {},
          "execution_count": 26
        }
      ]
    },
    {
      "cell_type": "code",
      "source": [
        "#NO se puede acceder al atributo Salario fuera de la Clase Administrativo, por ser un METODO PRIVADO.\n",
        "juan.__salario"
      ],
      "metadata": {
        "colab": {
          "base_uri": "https://localhost:8080/",
          "height": 164
        },
        "id": "ZWQbOB0rCmxR",
        "outputId": "32cb6456-999d-4e7a-98dc-962ff3b365bd"
      },
      "execution_count": 27,
      "outputs": [
        {
          "output_type": "error",
          "ename": "AttributeError",
          "evalue": "'Administrativo' object has no attribute '__salario'",
          "traceback": [
            "\u001b[0;31m---------------------------------------------------------------------------\u001b[0m",
            "\u001b[0;31mAttributeError\u001b[0m                            Traceback (most recent call last)",
            "\u001b[0;32m<ipython-input-27-a4b43d01e5c5>\u001b[0m in \u001b[0;36m<cell line: 0>\u001b[0;34m()\u001b[0m\n\u001b[1;32m      1\u001b[0m \u001b[0;31m#NO se puede acceder al atributo Salario fuera de la Clase Administrativo, por ser un METODO PRIVADO.\u001b[0m\u001b[0;34m\u001b[0m\u001b[0;34m\u001b[0m\u001b[0m\n\u001b[0;32m----> 2\u001b[0;31m \u001b[0mjuan\u001b[0m\u001b[0;34m.\u001b[0m\u001b[0m__salario\u001b[0m\u001b[0;34m\u001b[0m\u001b[0;34m\u001b[0m\u001b[0m\n\u001b[0m",
            "\u001b[0;31mAttributeError\u001b[0m: 'Administrativo' object has no attribute '__salario'"
          ]
        }
      ]
    },
    {
      "cell_type": "code",
      "source": [
        "#Crea una colección de personas en una lista.\n",
        "personas = [\n",
        "             Administrativo(\"Cinthia\",\"Fernandez\",40, \"Asistente Contable\", 456500),\n",
        "             Administrativo(\"Simon\",\"Ferragamo\",27,\"Preceptor\", 589900),\n",
        "             Administrativo(\"Juliana\",\"Velasquez\",41,\"Secretaria\", 756800),\n",
        "             Administrativo(\"Juan\",\"Gomez\", 30, \"Pasante\", 356500)\n",
        "             ]\n",
        "\n",
        "#Mostrar informacion\n",
        "for persona in personas :\n",
        "    print(persona.mostrar_informacion())"
      ],
      "metadata": {
        "colab": {
          "base_uri": "https://localhost:8080/"
        },
        "id": "Qx2qkfDApKYs",
        "outputId": "ea3676fb-cf0f-4bfb-b564-967239077a34"
      },
      "execution_count": 28,
      "outputs": [
        {
          "output_type": "stream",
          "name": "stdout",
          "text": [
            "Datos Personales = Cinthia Fernandez, Edad 40 años, Ocupacion: Asistente Contable, Identificador Unico(ID): feiaasistente contable, Salario: 456500\n",
            "Datos Personales = Simon Ferragamo, Edad 27 años, Ocupacion: Preceptor, Identificador Unico(ID): feonpreceptor, Salario: 589900\n",
            "Datos Personales = Juliana Velasquez, Edad 41 años, Ocupacion: Secretaria, Identificador Unico(ID): venasecretaria, Salario: 756800\n",
            "Datos Personales = Juan Gomez, Edad 30 años, Ocupacion: Pasante, Identificador Unico(ID): goanpasante, Salario: 356500\n"
          ]
        }
      ]
    },
    {
      "cell_type": "code",
      "source": [
        "#Se mostrara el Salario del personal administrativo [3]\n",
        "Administrativo.mostrar_salario(personas[3])"
      ],
      "metadata": {
        "colab": {
          "base_uri": "https://localhost:8080/",
          "height": 36
        },
        "id": "RivpimsoUUwT",
        "outputId": "64bb0e48-aa72-47c2-e6d3-a1c2f0808679"
      },
      "execution_count": 29,
      "outputs": [
        {
          "output_type": "execute_result",
          "data": {
            "text/plain": [
              "'El salario del Personal Administrativo seleccionado es: 356500'"
            ],
            "application/vnd.google.colaboratory.intrinsic+json": {
              "type": "string"
            }
          },
          "metadata": {},
          "execution_count": 29
        }
      ]
    },
    {
      "cell_type": "code",
      "source": [
        "#Se mostrara la informacion de la persona[3] pero con los atributos de la Clase Persona\n",
        "Persona.mostrar_informacion(personas[3])"
      ],
      "metadata": {
        "colab": {
          "base_uri": "https://localhost:8080/",
          "height": 36
        },
        "id": "dkEWYL1zpoC-",
        "outputId": "11509de4-2b93-47af-d426-987fcb577d33"
      },
      "execution_count": 30,
      "outputs": [
        {
          "output_type": "execute_result",
          "data": {
            "text/plain": [
              "'Datos Personales = Juan Gomez, Edad: 30 años, Ocupacion: Pasante'"
            ],
            "application/vnd.google.colaboratory.intrinsic+json": {
              "type": "string"
            }
          },
          "metadata": {},
          "execution_count": 30
        }
      ]
    },
    {
      "cell_type": "code",
      "source": [
        "#Se mostrara la informacion del Administrativo [3] con los atributos propios de su clase\n",
        "Administrativo.mostrar_informacion(personas[3])"
      ],
      "metadata": {
        "colab": {
          "base_uri": "https://localhost:8080/",
          "height": 36
        },
        "id": "NLrrhV6ppvY3",
        "outputId": "f76d682f-d213-465e-a18b-2d3ad1144ef9"
      },
      "execution_count": 31,
      "outputs": [
        {
          "output_type": "execute_result",
          "data": {
            "text/plain": [
              "'Datos Personales = Juan Gomez, Edad 30 años, Ocupacion: Pasante, Identificador Unico(ID): goanpasante, Salario: 356500'"
            ],
            "application/vnd.google.colaboratory.intrinsic+json": {
              "type": "string"
            }
          },
          "metadata": {},
          "execution_count": 31
        }
      ]
    },
    {
      "cell_type": "code",
      "source": [
        "#Se mostraran los metodos y atributos utilizados en la Clase Administrativo\n",
        "help(Administrativo)"
      ],
      "metadata": {
        "colab": {
          "base_uri": "https://localhost:8080/"
        },
        "id": "CdoIx5EeShBv",
        "outputId": "ea8d837e-f647-4020-b7e2-21a499bf1f5e"
      },
      "execution_count": 32,
      "outputs": [
        {
          "output_type": "stream",
          "name": "stdout",
          "text": [
            "Help on class Administrativo in module __main__:\n",
            "\n",
            "class Administrativo(Persona)\n",
            " |  Administrativo(nombre, apellido, edad, ocupacion, salario)\n",
            " |  \n",
            " |  Method resolution order:\n",
            " |      Administrativo\n",
            " |      Persona\n",
            " |      abc.ABC\n",
            " |      builtins.object\n",
            " |  \n",
            " |  Methods defined here:\n",
            " |  \n",
            " |  __init__(self, nombre, apellido, edad, ocupacion, salario)\n",
            " |      Initialize self.  See help(type(self)) for accurate signature.\n",
            " |  \n",
            " |  mostrar_informacion(self)\n",
            " |      Método abstracto que debe ser implementado en las subclases\n",
            " |  \n",
            " |  mostrar_salario(self)\n",
            " |      Este es un método privado.\n",
            " |  \n",
            " |  ordenar_por_apellido(lista_personas)\n",
            " |      # criterio (Apellido)\n",
            " |  \n",
            " |  ----------------------------------------------------------------------\n",
            " |  Data descriptors defined here:\n",
            " |  \n",
            " |  salario\n",
            " |  \n",
            " |  ----------------------------------------------------------------------\n",
            " |  Data and other attributes defined here:\n",
            " |  \n",
            " |  __abstractmethods__ = frozenset()\n",
            " |  \n",
            " |  ----------------------------------------------------------------------\n",
            " |  Methods inherited from Persona:\n",
            " |  \n",
            " |  generar_id(self)\n",
            " |      Genera un ID único para cada persona\n",
            " |  \n",
            " |  ----------------------------------------------------------------------\n",
            " |  Data descriptors inherited from Persona:\n",
            " |  \n",
            " |  __dict__\n",
            " |      dictionary for instance variables\n",
            " |  \n",
            " |  __weakref__\n",
            " |      list of weak references to the object\n",
            "\n"
          ]
        }
      ]
    },
    {
      "cell_type": "code",
      "source": [
        "#Crea una colección de personas en una lista.\n",
        "personas = [\n",
        "             Estudiante(\"Gustavo\",\"Delgado\",12,\"Estudiante\",96083906),\n",
        "             Estudiante(\"Jose\",\"Delgado\",13, \"Estudiante\", 96012639),\n",
        "             Estudiante(\"Yanira\",\"Monroy\",12,\"Estudiante\",96083822),\n",
        "             Estudiante(\"Oriana\",\"Martinez\",14,\"Estudiante\", 96082901),\n",
        "             Estudiante(\"Alejandro\",\"Gonzalez\", 14, \"Estudiante\", 95012434),\n",
        "             Docente(\"Luz\",\"Monroy\",36,\"Docente\", \"Historia\"),\n",
        "             Docente(\"Carlos\",\"Suarez\",44, \"Docente\", \"Artes Plasticas\"),\n",
        "             Docente(\"Maria\",\"Ramos\",27,\"Docente\",\"Ingles\"),\n",
        "             Docente(\"Susana\",\"Velasquez\",41,\"Docente\", \"Matematicas\"),\n",
        "             Docente(\"Benicio\",\"Cirio\", 30, \"Docente\", \"Practicas del Lenguaje\"),\n",
        "             Administrativo(\"Mari\",\"Isaurraulde\",38,\"Directivo\", 879800 ),\n",
        "             Administrativo(\"Cinthia\",\"Fernandez\",40, \"Asistente Contable\", 456500),\n",
        "             Administrativo(\"Simon\",\"Ferragamo\",27,\"Preceptor\", 589900),\n",
        "             Administrativo(\"Juliana\",\"Velasquez\",41,\"Secretaria\", 756800),\n",
        "             Administrativo(\"Juan\",\"Gomez\", 30, \"Pasante\", 356500)\n",
        "             ]\n",
        "\n",
        "#Mostrar informacion\n",
        "for persona in personas :\n",
        "    print(persona.mostrar_informacion())\n"
      ],
      "metadata": {
        "id": "-j1dp9irHxy7",
        "colab": {
          "base_uri": "https://localhost:8080/"
        },
        "outputId": "305b5f74-2077-4346-a0d8-18ce07a9c6eb"
      },
      "execution_count": 33,
      "outputs": [
        {
          "output_type": "stream",
          "name": "stdout",
          "text": [
            "Datos Personales = Gustavo Delgado, Edad: 12 años, Ocupacion: Estudiante, Identificador Unico(ID): devoestudiante, Nro DNI:96083906\n",
            "Datos Personales = Jose Delgado, Edad: 13 años, Ocupacion: Estudiante, Identificador Unico(ID): deseestudiante, Nro DNI:96012639\n",
            "Datos Personales = Yanira Monroy, Edad: 12 años, Ocupacion: Estudiante, Identificador Unico(ID): moraestudiante, Nro DNI:96083822\n",
            "Datos Personales = Oriana Martinez, Edad: 14 años, Ocupacion: Estudiante, Identificador Unico(ID): manaestudiante, Nro DNI:96082901\n",
            "Datos Personales = Alejandro Gonzalez, Edad: 14 años, Ocupacion: Estudiante, Identificador Unico(ID): goroestudiante, Nro DNI:95012434\n",
            "Datos Personales = Luz Monroy, Edad: 36 años, Ocupacion: Docente, Identificador Unico(ID): mouzdocente, Materia: Historia\n",
            "Datos Personales = Carlos Suarez, Edad: 44 años, Ocupacion: Docente, Identificador Unico(ID): suosdocente, Materia: Artes Plasticas\n",
            "Datos Personales = Maria Ramos, Edad: 27 años, Ocupacion: Docente, Identificador Unico(ID): raiadocente, Materia: Ingles\n",
            "Datos Personales = Susana Velasquez, Edad: 41 años, Ocupacion: Docente, Identificador Unico(ID): venadocente, Materia: Matematicas\n",
            "Datos Personales = Benicio Cirio, Edad: 30 años, Ocupacion: Docente, Identificador Unico(ID): ciiodocente, Materia: Practicas del Lenguaje\n",
            "Datos Personales = Mari Isaurraulde, Edad 38 años, Ocupacion: Directivo, Identificador Unico(ID): isridirectivo, Salario: 879800\n",
            "Datos Personales = Cinthia Fernandez, Edad 40 años, Ocupacion: Asistente Contable, Identificador Unico(ID): feiaasistente contable, Salario: 456500\n",
            "Datos Personales = Simon Ferragamo, Edad 27 años, Ocupacion: Preceptor, Identificador Unico(ID): feonpreceptor, Salario: 589900\n",
            "Datos Personales = Juliana Velasquez, Edad 41 años, Ocupacion: Secretaria, Identificador Unico(ID): venasecretaria, Salario: 756800\n",
            "Datos Personales = Juan Gomez, Edad 30 años, Ocupacion: Pasante, Identificador Unico(ID): goanpasante, Salario: 356500\n"
          ]
        }
      ]
    },
    {
      "cell_type": "code",
      "source": [
        "################################################################################\n",
        "##     2. Análisis de la Colección de Datos                                   ##\n",
        "##        Filtrado y Búsqueda:                                                ##\n",
        "##     Implementa funciones o métodos para buscar personas en la colección    ##\n",
        "##     basados en diferentes criterios, como:                                 ##\n",
        "##      ● Todas las personas mayores de una cierta edad.                      ##\n",
        "##      ● Todas las personas con una cierta ocupación.                        ##\n",
        "##      ● Todas las personas con un nombre o apellido específico.             ##\n",
        "##                                                                            ##\n",
        "################################################################################"
      ],
      "metadata": {
        "id": "Ckfc94TA_7JC"
      },
      "execution_count": null,
      "outputs": []
    },
    {
      "cell_type": "code",
      "source": [
        "#Todas las personas mayores de 30 años\n",
        "edad_limite = 30\n",
        "mayores = [p for p in personas if p.edad > edad_limite]\n",
        "\n",
        "print(f\"Personas mayores de {edad_limite} años:\\n\")\n",
        "\n",
        "for persona in mayores:\n",
        "    print(persona.mostrar_informacion())\n"
      ],
      "metadata": {
        "colab": {
          "base_uri": "https://localhost:8080/"
        },
        "id": "jjF3UNmv3_jS",
        "outputId": "9107d129-63d9-4709-b415-0b2564f8db33"
      },
      "execution_count": 34,
      "outputs": [
        {
          "output_type": "stream",
          "name": "stdout",
          "text": [
            "Personas mayores de 30 años:\n",
            "\n",
            "Datos Personales = Luz Monroy, Edad: 36 años, Ocupacion: Docente, Identificador Unico(ID): mouzdocente, Materia: Historia\n",
            "Datos Personales = Carlos Suarez, Edad: 44 años, Ocupacion: Docente, Identificador Unico(ID): suosdocente, Materia: Artes Plasticas\n",
            "Datos Personales = Susana Velasquez, Edad: 41 años, Ocupacion: Docente, Identificador Unico(ID): venadocente, Materia: Matematicas\n",
            "Datos Personales = Mari Isaurraulde, Edad 38 años, Ocupacion: Directivo, Identificador Unico(ID): isridirectivo, Salario: 879800\n",
            "Datos Personales = Cinthia Fernandez, Edad 40 años, Ocupacion: Asistente Contable, Identificador Unico(ID): feiaasistente contable, Salario: 456500\n",
            "Datos Personales = Juliana Velasquez, Edad 41 años, Ocupacion: Secretaria, Identificador Unico(ID): venasecretaria, Salario: 756800\n"
          ]
        }
      ]
    },
    {
      "cell_type": "code",
      "source": [
        "#Todos las personas con Ocupacion \"Docente\"\n",
        "ocupacion_Especifica = \"Docente\"\n",
        "docentes = [p for p in personas if p.ocupacion == ocupacion_Especifica]\n",
        "\n",
        "print(f\"Personas de Ocupacion {ocupacion_Especifica} :\\n\")\n",
        "\n",
        "for persona in docentes:\n",
        "    print(persona.mostrar_informacion())\n"
      ],
      "metadata": {
        "colab": {
          "base_uri": "https://localhost:8080/"
        },
        "id": "FarJ5dGV4Q41",
        "outputId": "a0deb20d-0e7b-412c-ade3-2e1b805b776f"
      },
      "execution_count": 35,
      "outputs": [
        {
          "output_type": "stream",
          "name": "stdout",
          "text": [
            "Personas de Ocupacion Docente :\n",
            "\n",
            "Datos Personales = Luz Monroy, Edad: 36 años, Ocupacion: Docente, Identificador Unico(ID): mouzdocente, Materia: Historia\n",
            "Datos Personales = Carlos Suarez, Edad: 44 años, Ocupacion: Docente, Identificador Unico(ID): suosdocente, Materia: Artes Plasticas\n",
            "Datos Personales = Maria Ramos, Edad: 27 años, Ocupacion: Docente, Identificador Unico(ID): raiadocente, Materia: Ingles\n",
            "Datos Personales = Susana Velasquez, Edad: 41 años, Ocupacion: Docente, Identificador Unico(ID): venadocente, Materia: Matematicas\n",
            "Datos Personales = Benicio Cirio, Edad: 30 años, Ocupacion: Docente, Identificador Unico(ID): ciiodocente, Materia: Practicas del Lenguaje\n"
          ]
        }
      ]
    },
    {
      "cell_type": "code",
      "source": [
        "#Todos las personas con apellido \"Delgado\"\n",
        "apellido_Especifico = \"Delgado\"\n",
        "delgados = [p for p in personas if p.apellido == apellido_Especifico]\n",
        "\n",
        "print(f\"Personas de apellido {apellido_Especifico} :\\n\")\n",
        "\n",
        "for persona in delgados:\n",
        "    print(persona.mostrar_informacion())\n"
      ],
      "metadata": {
        "colab": {
          "base_uri": "https://localhost:8080/"
        },
        "id": "2O7uy79Y9Dwu",
        "outputId": "2acc4a73-5010-40c4-aa4c-a391ca4180b1"
      },
      "execution_count": 36,
      "outputs": [
        {
          "output_type": "stream",
          "name": "stdout",
          "text": [
            "Personas de apellido Delgado :\n",
            "\n",
            "Datos Personales = Gustavo Delgado, Edad: 12 años, Ocupacion: Estudiante, Identificador Unico(ID): devoestudiante, Nro DNI:96083906\n",
            "Datos Personales = Jose Delgado, Edad: 13 años, Ocupacion: Estudiante, Identificador Unico(ID): deseestudiante, Nro DNI:96012639\n"
          ]
        }
      ]
    },
    {
      "cell_type": "code",
      "source": [
        "################################################################################\n",
        "##   3. Manipulación y Operaciones Avanzadas                                  ##\n",
        "##      Operaciones Avanzadas:                                                ##\n",
        "##   Agrega métodos a las clases para realizar operaciones específicas,       ##\n",
        "##   como:                                                                    ##\n",
        "##      ● Actualizar la información de una persona.                           ##\n",
        "##      ● Generar un ID único para cada persona (por ejemplo los dos          ##\n",
        "##      primeros caracteres del Apellido + los últimos 2 caracteres del       ##\n",
        "##      Nombre + la ocupación).                                               ##\n",
        "##      ● Ordenar la colección de personas por diferentes criterios           ##\n",
        "##      (edad, nombre, etc.).                                                 ##\n",
        "##                                                                            ##\n",
        "##      Polimorfismo:                                                         ##\n",
        "##      ● Implementa métodos adicionales en las subclases para demostrar      ##\n",
        "##      polimorfismo.                                                         ##\n",
        "##      ● Crea una función que reciba una lista de objetos Persona y llame    ##\n",
        "##      a los métodos de cada objeto sin conocer su tipo específico.          ##\n",
        "##                                                                            ##\n",
        "################################################################################"
      ],
      "metadata": {
        "id": "JpP_zirAncdN"
      },
      "execution_count": null,
      "outputs": []
    },
    {
      "cell_type": "code",
      "source": [
        "#Ordenar la coleccion de personas por criterios(Edad, Nombre y Apellido)\n",
        "\n",
        "#Coleccion (Estudiantes) ordenados de menor a mayor por edad\n",
        "personas_ordenadas = Estudiante.ordenar_por_edad(lista_personas=personas)\n",
        "\n",
        "# Mostrar la Edad de los estudiantes ordenados\n",
        "print(\"Lista de Personas ordenados por Edad:\")\n",
        "for estudiante in personas_ordenadas:\n",
        "    print(estudiante.edad)\n"
      ],
      "metadata": {
        "colab": {
          "base_uri": "https://localhost:8080/"
        },
        "id": "07QN5XcTVmiB",
        "outputId": "f808ce1d-4371-4a30-fdd8-a668df81207a"
      },
      "execution_count": 37,
      "outputs": [
        {
          "output_type": "stream",
          "name": "stdout",
          "text": [
            "Lista de Personas ordenados por Edad:\n",
            "12\n",
            "12\n",
            "13\n",
            "14\n",
            "14\n",
            "27\n",
            "27\n",
            "30\n",
            "30\n",
            "36\n",
            "38\n",
            "40\n",
            "41\n",
            "41\n",
            "44\n"
          ]
        }
      ]
    },
    {
      "cell_type": "code",
      "source": [
        "#Coleccion ordenados por nombres Alfabeticamente\n",
        "personas_ordenadas = Docente.ordenar_por_nombre(lista_personas=personas)\n",
        "\n",
        "# Mostrar el Nombre de los Docentes ordenados\n",
        "print(\"Lista de Personas ordenados por Nombre:\")\n",
        "for docente in personas_ordenadas:\n",
        "    print(docente.nombre)\n"
      ],
      "metadata": {
        "colab": {
          "base_uri": "https://localhost:8080/"
        },
        "id": "rph1XWWQ6Oud",
        "outputId": "60fbcc00-d721-4c11-9cbc-c345e58293bc"
      },
      "execution_count": 38,
      "outputs": [
        {
          "output_type": "stream",
          "name": "stdout",
          "text": [
            "Lista de Personas ordenados por Nombre:\n",
            "Alejandro\n",
            "Benicio\n",
            "Carlos\n",
            "Cinthia\n",
            "Gustavo\n",
            "Jose\n",
            "Juan\n",
            "Juliana\n",
            "Luz\n",
            "Mari\n",
            "Maria\n",
            "Oriana\n",
            "Simon\n",
            "Susana\n",
            "Yanira\n"
          ]
        }
      ]
    },
    {
      "cell_type": "code",
      "source": [
        "#Coleccion ordenada alfabeticamente por Apellido\n",
        "personas_ordenadas = Administrativo.ordenar_por_apellido(lista_personas=personas)\n",
        "\n",
        "# Mostrar el Apellido de las personas ordenadas alfabeticamente\n",
        "print(\"Lista de Personas ordenados por Apellido:\")\n",
        "for administrativo in personas_ordenadas:\n",
        "    print(administrativo.apellido)\n"
      ],
      "metadata": {
        "colab": {
          "base_uri": "https://localhost:8080/"
        },
        "id": "XgbaEifz6_j1",
        "outputId": "259729cd-d02d-4d47-e298-f21218226043"
      },
      "execution_count": 39,
      "outputs": [
        {
          "output_type": "stream",
          "name": "stdout",
          "text": [
            "Lista de Personas ordenados por Apellido:\n",
            "Cirio\n",
            "Delgado\n",
            "Delgado\n",
            "Fernandez\n",
            "Ferragamo\n",
            "Gomez\n",
            "Gonzalez\n",
            "Isaurraulde\n",
            "Martinez\n",
            "Monroy\n",
            "Monroy\n",
            "Ramos\n",
            "Suarez\n",
            "Velasquez\n",
            "Velasquez\n"
          ]
        }
      ]
    },
    {
      "cell_type": "code",
      "source": [
        "#Polimorfismo\n",
        "\n",
        "class Estudiante(Persona):\n",
        "    def __init__(self, nombre, apellido, edad, ocupacion, dni):\n",
        "        super().__init__(nombre, apellido, edad, ocupacion)\n",
        "        self.dni = dni\n",
        "#Metodo de la clase Persona mediante super().mostrar_informacion()\n",
        "    def mostrar_informacion(self):\n",
        "        return f\"Estudiante - {super().mostrar_informacion()}, DNI: {self.dni}\"\n",
        "\n",
        "################################################################################\n",
        "class Docente(Persona):\n",
        "    def __init__(self, nombre, apellido, edad, ocupacion, materia):\n",
        "        super().__init__(nombre, apellido, edad, ocupacion)\n",
        "        self.materia = materia\n",
        "#Metodo de la clase Persona mediante super().mostrar_informacion()\n",
        "    def mostrar_informacion(self):\n",
        "        return f\"Docente - {super().mostrar_informacion()}, materia: {self.materia}\"\n",
        "\n",
        "################################################################################\n",
        "class Administrativo(Persona):\n",
        "    def __init__(self, nombre, apellido, edad, ocupacion, salario):\n",
        "        super().__init__(nombre, apellido, edad, ocupacion)\n",
        "        self.salario = salario\n",
        "#Metodo de la clase Persona mediante super().mostrar_informacion()\n",
        "    def mostrar_informacion(self):\n",
        "        return f\"Administrativo - {super().mostrar_informacion()}, Salario: {self.salario}\"\n",
        "\n"
      ],
      "metadata": {
        "id": "S1XvnSyE_eBW"
      },
      "execution_count": 40,
      "outputs": []
    },
    {
      "cell_type": "code",
      "source": [
        "#Polimorfismo_Estudiante\n",
        "estudiante_uno = Estudiante(\"Gustavo\",\"Delgado\",12,\"Estudiante\",96083906)\n",
        "\n",
        "estudiante_uno.mostrar_informacion()"
      ],
      "metadata": {
        "colab": {
          "base_uri": "https://localhost:8080/",
          "height": 36
        },
        "id": "A9C0rVsjCcTD",
        "outputId": "ecc9cf70-5ac0-450c-be58-fef8b86f0d96"
      },
      "execution_count": 41,
      "outputs": [
        {
          "output_type": "execute_result",
          "data": {
            "text/plain": [
              "'Estudiante - Datos Personales = Gustavo Delgado, Edad: 12 años, Ocupacion: Estudiante, DNI: 96083906'"
            ],
            "application/vnd.google.colaboratory.intrinsic+json": {
              "type": "string"
            }
          },
          "metadata": {},
          "execution_count": 41
        }
      ]
    },
    {
      "cell_type": "code",
      "source": [
        "#Polimorfismo_Docente\n",
        "docente_dos = Docente(\"Luz\",\"Monroy\",36,\"Docente\", \"Historia\")\n",
        "\n",
        "docente_dos.mostrar_informacion()"
      ],
      "metadata": {
        "colab": {
          "base_uri": "https://localhost:8080/",
          "height": 36
        },
        "id": "Z3eiTJy6CoWG",
        "outputId": "a8fef1f1-2fe2-495b-8a57-34d33c6ab7c9"
      },
      "execution_count": 42,
      "outputs": [
        {
          "output_type": "execute_result",
          "data": {
            "text/plain": [
              "'Docente - Datos Personales = Luz Monroy, Edad: 36 años, Ocupacion: Docente, materia: Historia'"
            ],
            "application/vnd.google.colaboratory.intrinsic+json": {
              "type": "string"
            }
          },
          "metadata": {},
          "execution_count": 42
        }
      ]
    },
    {
      "cell_type": "code",
      "source": [
        "#Polimorfismo_Administrativo\n",
        "administrativo_tres = Administrativo(\"Simon\",\"Ferragamo\",27,\"Preceptor\", 589900)\n",
        "\n",
        "administrativo_tres.mostrar_informacion()"
      ],
      "metadata": {
        "colab": {
          "base_uri": "https://localhost:8080/",
          "height": 36
        },
        "id": "nFHD58G6DLYf",
        "outputId": "c4b697f0-9f3b-40a2-e6bf-acb7e5a688ad"
      },
      "execution_count": 43,
      "outputs": [
        {
          "output_type": "execute_result",
          "data": {
            "text/plain": [
              "'Administrativo - Datos Personales = Simon Ferragamo, Edad: 27 años, Ocupacion: Preceptor, Salario: 589900'"
            ],
            "application/vnd.google.colaboratory.intrinsic+json": {
              "type": "string"
            }
          },
          "metadata": {},
          "execution_count": 43
        }
      ]
    },
    {
      "cell_type": "code",
      "source": [
        "# Creamos instancias de las clases derivadas\n",
        "estudiante_uno = Estudiante(\"Gustavo\",\"Delgado\",12,\"Estudiante\",96083906)\n",
        "docente_dos = Docente(\"Luz\",\"Monroy\",36,\"Docente\", \"Historia\")\n",
        "administrativo_tres = Administrativo(\"Simon\",\"Ferragamo\",27,\"Preceptor\", 589900)\n",
        "\n",
        "Personas = [estudiante_uno, docente_dos, administrativo_tres]\n",
        "\n",
        "# Recorremos la lista de personas y llamamos al método mostrar_informacion()\n",
        "\n",
        "for persona in Personas:\n",
        "    print(persona.mostrar_informacion())\n"
      ],
      "metadata": {
        "id": "Q93oPHbedyox",
        "colab": {
          "base_uri": "https://localhost:8080/"
        },
        "outputId": "3121d822-448c-419a-df2c-e3384507a701"
      },
      "execution_count": 44,
      "outputs": [
        {
          "output_type": "stream",
          "name": "stdout",
          "text": [
            "Estudiante - Datos Personales = Gustavo Delgado, Edad: 12 años, Ocupacion: Estudiante, DNI: 96083906\n",
            "Docente - Datos Personales = Luz Monroy, Edad: 36 años, Ocupacion: Docente, materia: Historia\n",
            "Administrativo - Datos Personales = Simon Ferragamo, Edad: 27 años, Ocupacion: Preceptor, Salario: 589900\n"
          ]
        }
      ]
    },
    {
      "cell_type": "code",
      "source": [
        "#############               Validacion de Datos                     ############"
      ],
      "metadata": {
        "id": "q-OHzmgscAvf"
      },
      "execution_count": null,
      "outputs": []
    },
    {
      "cell_type": "code",
      "source": [
        "## Validación de tipo (type):\n",
        "##     Verificar si los datos proporcionados son del tipo correcto.\n",
        "##     Podemos verificar el tipo de un objeto utilizando la función type().\n",
        "\n",
        "print(type(Persona))\n",
        "print(type(Estudiante))\n",
        "print(type(Docente))\n",
        "print(type(Administrativo))\n"
      ],
      "metadata": {
        "colab": {
          "base_uri": "https://localhost:8080/"
        },
        "id": "BMMuxIKDcLm9",
        "outputId": "5bcd9e7f-51a4-4a3f-ae74-b85401aa177c"
      },
      "execution_count": 45,
      "outputs": [
        {
          "output_type": "stream",
          "name": "stdout",
          "text": [
            "<class 'abc.ABCMeta'>\n",
            "<class 'abc.ABCMeta'>\n",
            "<class 'abc.ABCMeta'>\n",
            "<class 'abc.ABCMeta'>\n"
          ]
        }
      ]
    },
    {
      "cell_type": "code",
      "source": [
        "## Validación de tipo ( isinstance() ):\n",
        "##      Verificar si un objeto es una instancia de una determinada clase.\n",
        "##      Es útil para validar tipos de datos antes de ejecutar ciertas operaciones.\n",
        "\n",
        "print(isinstance(persona, Persona))\n",
        "print(isinstance(persona, Estudiante))\n",
        "print(isinstance(persona, Docente))\n",
        "print(isinstance(persona, Administrativo))"
      ],
      "metadata": {
        "colab": {
          "base_uri": "https://localhost:8080/"
        },
        "id": "uKdUludgjdpu",
        "outputId": "177f14cf-1168-4354-d083-b1a4334e29f6"
      },
      "execution_count": 46,
      "outputs": [
        {
          "output_type": "stream",
          "name": "stdout",
          "text": [
            "True\n",
            "False\n",
            "False\n",
            "True\n"
          ]
        }
      ]
    }
  ]
}